{
 "cells": [
  {
   "attachments": {},
   "cell_type": "markdown",
   "metadata": {},
   "source": [
    "# Notebook for data processing and simple visualization"
   ]
  },
  {
   "cell_type": "code",
   "execution_count": 1,
   "metadata": {},
   "outputs": [
    {
     "name": "stdout",
     "output_type": "stream",
     "text": [
      "2022-12-22 01:40:36,358 - cpi - INFO - Parsing data files from the BLS\n"
     ]
    }
   ],
   "source": [
    "from scraper import KinoPoisk\n",
    "from logger_info import logger\n",
    "import pandas as pd\n",
    "import main as Main\n",
    "#from IPython.display import clear_output\n",
    "#from currency_converter import CurrencyConverter\n",
    "#import cpi\n",
    "#import sqlite3\n",
    "#import csv"
   ]
  },
  {
   "cell_type": "code",
   "execution_count": 25,
   "metadata": {},
   "outputs": [
    {
     "data": {
      "text/html": [
       "<div>\n",
       "<style scoped>\n",
       "    .dataframe tbody tr th:only-of-type {\n",
       "        vertical-align: middle;\n",
       "    }\n",
       "\n",
       "    .dataframe tbody tr th {\n",
       "        vertical-align: top;\n",
       "    }\n",
       "\n",
       "    .dataframe thead th {\n",
       "        text-align: right;\n",
       "    }\n",
       "</style>\n",
       "<table border=\"1\" class=\"dataframe\">\n",
       "  <thead>\n",
       "    <tr style=\"text-align: right;\">\n",
       "      <th></th>\n",
       "      <th>Аудиодорожки</th>\n",
       "      <th>Субтитры</th>\n",
       "      <th>Качество видео</th>\n",
       "      <th>Год производства</th>\n",
       "      <th>Страна</th>\n",
       "      <th>Жанр</th>\n",
       "      <th>Слоган</th>\n",
       "      <th>Режиссер</th>\n",
       "      <th>Сценарий</th>\n",
       "      <th>Продюсер</th>\n",
       "      <th>...</th>\n",
       "      <th>Название фильма</th>\n",
       "      <th>Актеры</th>\n",
       "      <th>Оценка фильма</th>\n",
       "      <th>Релиз на Blu-ray</th>\n",
       "      <th>Сборы в России</th>\n",
       "      <th>Ре-релиз (РФ)</th>\n",
       "      <th>Цифровой релиз</th>\n",
       "      <th>Директор фильма</th>\n",
       "      <th>4K доступно только на больших экранах</th>\n",
       "      <th>Платформа</th>\n",
       "    </tr>\n",
       "  </thead>\n",
       "  <tbody>\n",
       "    <tr>\n",
       "      <th>0</th>\n",
       "      <td>['Русский, Английский']</td>\n",
       "      <td>['Русские']</td>\n",
       "      <td>[]</td>\n",
       "      <td>['1999']</td>\n",
       "      <td>['США']</td>\n",
       "      <td>['драма, фэнтези, криминал']</td>\n",
       "      <td>['«Пол Эджкомб не верил в чудеса. Пока не стол...</td>\n",
       "      <td>['Фрэнк Дарабонт']</td>\n",
       "      <td>['Фрэнк Дарабонт, Стивен Кинг']</td>\n",
       "      <td>['Фрэнк Дарабонт, Дэвид Валдес']</td>\n",
       "      <td>...</td>\n",
       "      <td>['Зеленая миля (1999)', 'The Green Mile16+']</td>\n",
       "      <td>['Том Хэнкс', 'Дэвид Морс', 'Бонни Хант', 'Май...</td>\n",
       "      <td>['9.1']</td>\n",
       "      <td>NaN</td>\n",
       "      <td>NaN</td>\n",
       "      <td>NaN</td>\n",
       "      <td>NaN</td>\n",
       "      <td>NaN</td>\n",
       "      <td>NaN</td>\n",
       "      <td>NaN</td>\n",
       "    </tr>\n",
       "    <tr>\n",
       "      <th>1</th>\n",
       "      <td>['Русский, Английский']</td>\n",
       "      <td>['Русские']</td>\n",
       "      <td>[]</td>\n",
       "      <td>['1993']</td>\n",
       "      <td>['США']</td>\n",
       "      <td>['драма, биография, история, военный']</td>\n",
       "      <td>['«Этот список - жизнь»']</td>\n",
       "      <td>['Стивен Спилберг']</td>\n",
       "      <td>['Стивен Зеллиан, Томас Кенилли']</td>\n",
       "      <td>['Ирвинг Гловин, Кэтлин Кеннеди, Бранко Лустиг...</td>\n",
       "      <td>...</td>\n",
       "      <td>['Список Шиндлера (1993)', \"Schindler's List16+\"]</td>\n",
       "      <td>['Лиам Нисон', 'Бен Кингсли', 'Рэйф Файнс', 'К...</td>\n",
       "      <td>['8.8']</td>\n",
       "      <td>['11 апреля 2013, «Двадцатый Век Фокс СНГ»']</td>\n",
       "      <td>NaN</td>\n",
       "      <td>NaN</td>\n",
       "      <td>NaN</td>\n",
       "      <td>NaN</td>\n",
       "      <td>NaN</td>\n",
       "      <td>NaN</td>\n",
       "    </tr>\n",
       "    <tr>\n",
       "      <th>2</th>\n",
       "      <td>NaN</td>\n",
       "      <td>NaN</td>\n",
       "      <td>NaN</td>\n",
       "      <td>['1994']</td>\n",
       "      <td>['США']</td>\n",
       "      <td>['драма']</td>\n",
       "      <td>['«Страх - это кандалы. Надежда - это свобода»']</td>\n",
       "      <td>['Фрэнк Дарабонт']</td>\n",
       "      <td>['Фрэнк Дарабонт, Стивен Кинг']</td>\n",
       "      <td>['Лиз Глоцер, Дэвид В. Лестер, Ники Марвин']</td>\n",
       "      <td>...</td>\n",
       "      <td>['Побег из Шоушенка (1994)', 'The Shawshank Re...</td>\n",
       "      <td>['Тим Роббинс', 'Морган Фриман', 'Боб Гантон',...</td>\n",
       "      <td>['9.1']</td>\n",
       "      <td>['27 августа 2009, «Союз-Видео»']</td>\n",
       "      <td>['$87 432']</td>\n",
       "      <td>NaN</td>\n",
       "      <td>NaN</td>\n",
       "      <td>NaN</td>\n",
       "      <td>NaN</td>\n",
       "      <td>NaN</td>\n",
       "    </tr>\n",
       "    <tr>\n",
       "      <th>3</th>\n",
       "      <td>['Русский, Русский 5.1, Английский, Английский...</td>\n",
       "      <td>['Русские']</td>\n",
       "      <td>[]</td>\n",
       "      <td>['1994']</td>\n",
       "      <td>['США']</td>\n",
       "      <td>['драма, комедия, мелодрама, история, военный']</td>\n",
       "      <td>['«Мир уже никогда не будет прежним, после тог...</td>\n",
       "      <td>['Роберт Земекис']</td>\n",
       "      <td>['Эрик Рот, Уинстон Грум']</td>\n",
       "      <td>['Венди Файнерман, Стив Старки, Стив Тиш, ...']</td>\n",
       "      <td>...</td>\n",
       "      <td>['Форрест Гамп (1994)', 'Forrest Gump16+']</td>\n",
       "      <td>['Том Хэнкс', 'Робин Райт', 'Салли Филд', 'Гэр...</td>\n",
       "      <td>['8.9']</td>\n",
       "      <td>NaN</td>\n",
       "      <td>['$84 460']</td>\n",
       "      <td>NaN</td>\n",
       "      <td>NaN</td>\n",
       "      <td>NaN</td>\n",
       "      <td>NaN</td>\n",
       "      <td>NaN</td>\n",
       "    </tr>\n",
       "    <tr>\n",
       "      <th>4</th>\n",
       "      <td>NaN</td>\n",
       "      <td>NaN</td>\n",
       "      <td>NaN</td>\n",
       "      <td>['2003']</td>\n",
       "      <td>['Новая Зеландия, США']</td>\n",
       "      <td>['фэнтези, приключения, драма']</td>\n",
       "      <td>['«There can be no triumph without loss. No vi...</td>\n",
       "      <td>['Питер Джексон']</td>\n",
       "      <td>['Фрэн Уолш, Филиппа Бойенс, Питер Джексон, ...']</td>\n",
       "      <td>['Питер Джексон, Eric Monette, Барри М. Осборн...</td>\n",
       "      <td>...</td>\n",
       "      <td>['Властелин колец: Возвращение короля (2003)',...</td>\n",
       "      <td>['Элайджа Вуд', 'Вигго Мортенсен', 'Шон Эстин'...</td>\n",
       "      <td>['8.7']</td>\n",
       "      <td>['6 апреля 2010, «Юниверсал Пикчерс Рус»']</td>\n",
       "      <td>['$14 085 000']</td>\n",
       "      <td>['29 апреля 2021, «UPI»']</td>\n",
       "      <td>NaN</td>\n",
       "      <td>NaN</td>\n",
       "      <td>NaN</td>\n",
       "      <td>NaN</td>\n",
       "    </tr>\n",
       "  </tbody>\n",
       "</table>\n",
       "<p>5 rows × 35 columns</p>\n",
       "</div>"
      ],
      "text/plain": [
       "                                        Аудиодорожки     Субтитры  \\\n",
       "0                            ['Русский, Английский']  ['Русские']   \n",
       "1                            ['Русский, Английский']  ['Русские']   \n",
       "2                                                NaN          NaN   \n",
       "3  ['Русский, Русский 5.1, Английский, Английский...  ['Русские']   \n",
       "4                                                NaN          NaN   \n",
       "\n",
       "  Качество видео Год производства                   Страна  \\\n",
       "0             []         ['1999']                  ['США']   \n",
       "1             []         ['1993']                  ['США']   \n",
       "2            NaN         ['1994']                  ['США']   \n",
       "3             []         ['1994']                  ['США']   \n",
       "4            NaN         ['2003']  ['Новая Зеландия, США']   \n",
       "\n",
       "                                              Жанр  \\\n",
       "0                     ['драма, фэнтези, криминал']   \n",
       "1           ['драма, биография, история, военный']   \n",
       "2                                        ['драма']   \n",
       "3  ['драма, комедия, мелодрама, история, военный']   \n",
       "4                  ['фэнтези, приключения, драма']   \n",
       "\n",
       "                                              Слоган             Режиссер  \\\n",
       "0  ['«Пол Эджкомб не верил в чудеса. Пока не стол...   ['Фрэнк Дарабонт']   \n",
       "1                          ['«Этот список - жизнь»']  ['Стивен Спилберг']   \n",
       "2   ['«Страх - это кандалы. Надежда - это свобода»']   ['Фрэнк Дарабонт']   \n",
       "3  ['«Мир уже никогда не будет прежним, после тог...   ['Роберт Земекис']   \n",
       "4  ['«There can be no triumph without loss. No vi...    ['Питер Джексон']   \n",
       "\n",
       "                                            Сценарий  \\\n",
       "0                    ['Фрэнк Дарабонт, Стивен Кинг']   \n",
       "1                  ['Стивен Зеллиан, Томас Кенилли']   \n",
       "2                    ['Фрэнк Дарабонт, Стивен Кинг']   \n",
       "3                         ['Эрик Рот, Уинстон Грум']   \n",
       "4  ['Фрэн Уолш, Филиппа Бойенс, Питер Джексон, ...']   \n",
       "\n",
       "                                            Продюсер  ...  \\\n",
       "0                   ['Фрэнк Дарабонт, Дэвид Валдес']  ...   \n",
       "1  ['Ирвинг Гловин, Кэтлин Кеннеди, Бранко Лустиг...  ...   \n",
       "2       ['Лиз Глоцер, Дэвид В. Лестер, Ники Марвин']  ...   \n",
       "3    ['Венди Файнерман, Стив Старки, Стив Тиш, ...']  ...   \n",
       "4  ['Питер Джексон, Eric Monette, Барри М. Осборн...  ...   \n",
       "\n",
       "                                     Название фильма  \\\n",
       "0       ['Зеленая миля (1999)', 'The Green Mile16+']   \n",
       "1  ['Список Шиндлера (1993)', \"Schindler's List16+\"]   \n",
       "2  ['Побег из Шоушенка (1994)', 'The Shawshank Re...   \n",
       "3         ['Форрест Гамп (1994)', 'Forrest Gump16+']   \n",
       "4  ['Властелин колец: Возвращение короля (2003)',...   \n",
       "\n",
       "                                              Актеры Оценка фильма  \\\n",
       "0  ['Том Хэнкс', 'Дэвид Морс', 'Бонни Хант', 'Май...       ['9.1']   \n",
       "1  ['Лиам Нисон', 'Бен Кингсли', 'Рэйф Файнс', 'К...       ['8.8']   \n",
       "2  ['Тим Роббинс', 'Морган Фриман', 'Боб Гантон',...       ['9.1']   \n",
       "3  ['Том Хэнкс', 'Робин Райт', 'Салли Филд', 'Гэр...       ['8.9']   \n",
       "4  ['Элайджа Вуд', 'Вигго Мортенсен', 'Шон Эстин'...       ['8.7']   \n",
       "\n",
       "                               Релиз на Blu-ray   Сборы в России  \\\n",
       "0                                           NaN              NaN   \n",
       "1  ['11 апреля 2013, «Двадцатый Век Фокс СНГ»']              NaN   \n",
       "2             ['27 августа 2009, «Союз-Видео»']      ['$87 432']   \n",
       "3                                           NaN      ['$84 460']   \n",
       "4    ['6 апреля 2010, «Юниверсал Пикчерс Рус»']  ['$14 085 000']   \n",
       "\n",
       "               Ре-релиз (РФ) Цифровой релиз Директор фильма  \\\n",
       "0                        NaN            NaN             NaN   \n",
       "1                        NaN            NaN             NaN   \n",
       "2                        NaN            NaN             NaN   \n",
       "3                        NaN            NaN             NaN   \n",
       "4  ['29 апреля 2021, «UPI»']            NaN             NaN   \n",
       "\n",
       "  4K доступно только на больших экранах Платформа  \n",
       "0                                   NaN       NaN  \n",
       "1                                   NaN       NaN  \n",
       "2                                   NaN       NaN  \n",
       "3                                   NaN       NaN  \n",
       "4                                   NaN       NaN  \n",
       "\n",
       "[5 rows x 35 columns]"
      ]
     },
     "execution_count": 25,
     "metadata": {},
     "output_type": "execute_result"
    }
   ],
   "source": [
    "df = pd.read_csv('KinoPoisk.csv')\n",
    "df.to_string()\n",
    "df.head(5)"
   ]
  },
  {
   "cell_type": "code",
   "execution_count": 17,
   "metadata": {},
   "outputs": [
    {
     "name": "stdout",
     "output_type": "stream",
     "text": [
      "0                  NaN\n",
      "1                  NaN\n",
      "2          ['$87 432']\n",
      "3          ['$84 460']\n",
      "4      ['$14 085 000']\n",
      "            ...       \n",
      "245                NaN\n",
      "246       ['$138 739']\n",
      "247     ['$1 096 215']\n",
      "248    ['$33 771 696']\n",
      "249                NaN\n",
      "Name: Сборы в России, Length: 250, dtype: object\n"
     ]
    }
   ],
   "source": [
    "df.astype('').dtypes\n",
    "df['Сборы в России'] = df['Сборы в России'].replace()\n",
    "print(df['Сборы в России'])"
   ]
  },
  {
   "cell_type": "code",
   "execution_count": 16,
   "metadata": {},
   "outputs": [
    {
     "ename": "ValueError",
     "evalue": "could not convert string to float: \"['$87 432']\"",
     "output_type": "error",
     "traceback": [
      "\u001b[0;31m---------------------------------------------------------------------------\u001b[0m",
      "\u001b[0;31mValueError\u001b[0m                                Traceback (most recent call last)",
      "Cell \u001b[0;32mIn[16], line 1\u001b[0m\n\u001b[0;32m----> 1\u001b[0m df\u001b[39m.\u001b[39;49mastype({\u001b[39m'\u001b[39;49m\u001b[39mСборы в России\u001b[39;49m\u001b[39m'\u001b[39;49m: \u001b[39m'\u001b[39;49m\u001b[39mfloat\u001b[39;49m\u001b[39m'\u001b[39;49m})\n",
      "File \u001b[0;32m~/.local/lib/python3.10/site-packages/pandas/core/generic.py:6226\u001b[0m, in \u001b[0;36mNDFrame.astype\u001b[0;34m(self, dtype, copy, errors)\u001b[0m\n\u001b[1;32m   6224\u001b[0m             res_col \u001b[39m=\u001b[39m col\u001b[39m.\u001b[39mcopy() \u001b[39mif\u001b[39;00m copy \u001b[39melse\u001b[39;00m col\n\u001b[1;32m   6225\u001b[0m         \u001b[39melse\u001b[39;00m:\n\u001b[0;32m-> 6226\u001b[0m             res_col \u001b[39m=\u001b[39m col\u001b[39m.\u001b[39;49mastype(dtype\u001b[39m=\u001b[39;49mcdt, copy\u001b[39m=\u001b[39;49mcopy, errors\u001b[39m=\u001b[39;49merrors)\n\u001b[1;32m   6227\u001b[0m         results\u001b[39m.\u001b[39mappend(res_col)\n\u001b[1;32m   6229\u001b[0m \u001b[39melif\u001b[39;00m is_extension_array_dtype(dtype) \u001b[39mand\u001b[39;00m \u001b[39mself\u001b[39m\u001b[39m.\u001b[39mndim \u001b[39m>\u001b[39m \u001b[39m1\u001b[39m:\n\u001b[1;32m   6230\u001b[0m     \u001b[39m# GH 18099/22869: columnwise conversion to extension dtype\u001b[39;00m\n\u001b[1;32m   6231\u001b[0m     \u001b[39m# GH 24704: use iloc to handle duplicate column names\u001b[39;00m\n\u001b[1;32m   6232\u001b[0m     \u001b[39m# TODO(EA2D): special case not needed with 2D EAs\u001b[39;00m\n",
      "File \u001b[0;32m~/.local/lib/python3.10/site-packages/pandas/core/generic.py:6240\u001b[0m, in \u001b[0;36mNDFrame.astype\u001b[0;34m(self, dtype, copy, errors)\u001b[0m\n\u001b[1;32m   6233\u001b[0m     results \u001b[39m=\u001b[39m [\n\u001b[1;32m   6234\u001b[0m         \u001b[39mself\u001b[39m\u001b[39m.\u001b[39miloc[:, i]\u001b[39m.\u001b[39mastype(dtype, copy\u001b[39m=\u001b[39mcopy)\n\u001b[1;32m   6235\u001b[0m         \u001b[39mfor\u001b[39;00m i \u001b[39min\u001b[39;00m \u001b[39mrange\u001b[39m(\u001b[39mlen\u001b[39m(\u001b[39mself\u001b[39m\u001b[39m.\u001b[39mcolumns))\n\u001b[1;32m   6236\u001b[0m     ]\n\u001b[1;32m   6238\u001b[0m \u001b[39melse\u001b[39;00m:\n\u001b[1;32m   6239\u001b[0m     \u001b[39m# else, only a single dtype is given\u001b[39;00m\n\u001b[0;32m-> 6240\u001b[0m     new_data \u001b[39m=\u001b[39m \u001b[39mself\u001b[39;49m\u001b[39m.\u001b[39;49m_mgr\u001b[39m.\u001b[39;49mastype(dtype\u001b[39m=\u001b[39;49mdtype, copy\u001b[39m=\u001b[39;49mcopy, errors\u001b[39m=\u001b[39;49merrors)\n\u001b[1;32m   6241\u001b[0m     \u001b[39mreturn\u001b[39;00m \u001b[39mself\u001b[39m\u001b[39m.\u001b[39m_constructor(new_data)\u001b[39m.\u001b[39m__finalize__(\u001b[39mself\u001b[39m, method\u001b[39m=\u001b[39m\u001b[39m\"\u001b[39m\u001b[39mastype\u001b[39m\u001b[39m\"\u001b[39m)\n\u001b[1;32m   6243\u001b[0m \u001b[39m# GH 33113: handle empty frame or series\u001b[39;00m\n",
      "File \u001b[0;32m~/.local/lib/python3.10/site-packages/pandas/core/internals/managers.py:450\u001b[0m, in \u001b[0;36mBaseBlockManager.astype\u001b[0;34m(self, dtype, copy, errors)\u001b[0m\n\u001b[1;32m    449\u001b[0m \u001b[39mdef\u001b[39;00m \u001b[39mastype\u001b[39m(\u001b[39mself\u001b[39m: T, dtype, copy: \u001b[39mbool\u001b[39m \u001b[39m=\u001b[39m \u001b[39mFalse\u001b[39;00m, errors: \u001b[39mstr\u001b[39m \u001b[39m=\u001b[39m \u001b[39m\"\u001b[39m\u001b[39mraise\u001b[39m\u001b[39m\"\u001b[39m) \u001b[39m-\u001b[39m\u001b[39m>\u001b[39m T:\n\u001b[0;32m--> 450\u001b[0m     \u001b[39mreturn\u001b[39;00m \u001b[39mself\u001b[39;49m\u001b[39m.\u001b[39;49mapply(\u001b[39m\"\u001b[39;49m\u001b[39mastype\u001b[39;49m\u001b[39m\"\u001b[39;49m, dtype\u001b[39m=\u001b[39;49mdtype, copy\u001b[39m=\u001b[39;49mcopy, errors\u001b[39m=\u001b[39;49merrors)\n",
      "File \u001b[0;32m~/.local/lib/python3.10/site-packages/pandas/core/internals/managers.py:352\u001b[0m, in \u001b[0;36mBaseBlockManager.apply\u001b[0;34m(self, f, align_keys, ignore_failures, **kwargs)\u001b[0m\n\u001b[1;32m    350\u001b[0m         applied \u001b[39m=\u001b[39m b\u001b[39m.\u001b[39mapply(f, \u001b[39m*\u001b[39m\u001b[39m*\u001b[39mkwargs)\n\u001b[1;32m    351\u001b[0m     \u001b[39melse\u001b[39;00m:\n\u001b[0;32m--> 352\u001b[0m         applied \u001b[39m=\u001b[39m \u001b[39mgetattr\u001b[39;49m(b, f)(\u001b[39m*\u001b[39;49m\u001b[39m*\u001b[39;49mkwargs)\n\u001b[1;32m    353\u001b[0m \u001b[39mexcept\u001b[39;00m (\u001b[39mTypeError\u001b[39;00m, \u001b[39mNotImplementedError\u001b[39;00m):\n\u001b[1;32m    354\u001b[0m     \u001b[39mif\u001b[39;00m \u001b[39mnot\u001b[39;00m ignore_failures:\n",
      "File \u001b[0;32m~/.local/lib/python3.10/site-packages/pandas/core/internals/blocks.py:526\u001b[0m, in \u001b[0;36mBlock.astype\u001b[0;34m(self, dtype, copy, errors)\u001b[0m\n\u001b[1;32m    508\u001b[0m \u001b[39m\"\"\"\u001b[39;00m\n\u001b[1;32m    509\u001b[0m \u001b[39mCoerce to the new dtype.\u001b[39;00m\n\u001b[1;32m    510\u001b[0m \n\u001b[0;32m   (...)\u001b[0m\n\u001b[1;32m    522\u001b[0m \u001b[39mBlock\u001b[39;00m\n\u001b[1;32m    523\u001b[0m \u001b[39m\"\"\"\u001b[39;00m\n\u001b[1;32m    524\u001b[0m values \u001b[39m=\u001b[39m \u001b[39mself\u001b[39m\u001b[39m.\u001b[39mvalues\n\u001b[0;32m--> 526\u001b[0m new_values \u001b[39m=\u001b[39m astype_array_safe(values, dtype, copy\u001b[39m=\u001b[39;49mcopy, errors\u001b[39m=\u001b[39;49merrors)\n\u001b[1;32m    528\u001b[0m new_values \u001b[39m=\u001b[39m maybe_coerce_values(new_values)\n\u001b[1;32m    529\u001b[0m newb \u001b[39m=\u001b[39m \u001b[39mself\u001b[39m\u001b[39m.\u001b[39mmake_block(new_values)\n",
      "File \u001b[0;32m~/.local/lib/python3.10/site-packages/pandas/core/dtypes/astype.py:299\u001b[0m, in \u001b[0;36mastype_array_safe\u001b[0;34m(values, dtype, copy, errors)\u001b[0m\n\u001b[1;32m    296\u001b[0m     \u001b[39mreturn\u001b[39;00m values\u001b[39m.\u001b[39mcopy()\n\u001b[1;32m    298\u001b[0m \u001b[39mtry\u001b[39;00m:\n\u001b[0;32m--> 299\u001b[0m     new_values \u001b[39m=\u001b[39m astype_array(values, dtype, copy\u001b[39m=\u001b[39;49mcopy)\n\u001b[1;32m    300\u001b[0m \u001b[39mexcept\u001b[39;00m (\u001b[39mValueError\u001b[39;00m, \u001b[39mTypeError\u001b[39;00m):\n\u001b[1;32m    301\u001b[0m     \u001b[39m# e.g. astype_nansafe can fail on object-dtype of strings\u001b[39;00m\n\u001b[1;32m    302\u001b[0m     \u001b[39m#  trying to convert to float\u001b[39;00m\n\u001b[1;32m    303\u001b[0m     \u001b[39mif\u001b[39;00m errors \u001b[39m==\u001b[39m \u001b[39m\"\u001b[39m\u001b[39mignore\u001b[39m\u001b[39m\"\u001b[39m:\n",
      "File \u001b[0;32m~/.local/lib/python3.10/site-packages/pandas/core/dtypes/astype.py:230\u001b[0m, in \u001b[0;36mastype_array\u001b[0;34m(values, dtype, copy)\u001b[0m\n\u001b[1;32m    227\u001b[0m     values \u001b[39m=\u001b[39m values\u001b[39m.\u001b[39mastype(dtype, copy\u001b[39m=\u001b[39mcopy)\n\u001b[1;32m    229\u001b[0m \u001b[39melse\u001b[39;00m:\n\u001b[0;32m--> 230\u001b[0m     values \u001b[39m=\u001b[39m astype_nansafe(values, dtype, copy\u001b[39m=\u001b[39;49mcopy)\n\u001b[1;32m    232\u001b[0m \u001b[39m# in pandas we don't store numpy str dtypes, so convert to object\u001b[39;00m\n\u001b[1;32m    233\u001b[0m \u001b[39mif\u001b[39;00m \u001b[39misinstance\u001b[39m(dtype, np\u001b[39m.\u001b[39mdtype) \u001b[39mand\u001b[39;00m \u001b[39missubclass\u001b[39m(values\u001b[39m.\u001b[39mdtype\u001b[39m.\u001b[39mtype, \u001b[39mstr\u001b[39m):\n",
      "File \u001b[0;32m~/.local/lib/python3.10/site-packages/pandas/core/dtypes/astype.py:170\u001b[0m, in \u001b[0;36mastype_nansafe\u001b[0;34m(arr, dtype, copy, skipna)\u001b[0m\n\u001b[1;32m    166\u001b[0m     \u001b[39mraise\u001b[39;00m \u001b[39mValueError\u001b[39;00m(msg)\n\u001b[1;32m    168\u001b[0m \u001b[39mif\u001b[39;00m copy \u001b[39mor\u001b[39;00m is_object_dtype(arr\u001b[39m.\u001b[39mdtype) \u001b[39mor\u001b[39;00m is_object_dtype(dtype):\n\u001b[1;32m    169\u001b[0m     \u001b[39m# Explicit copy, or required since NumPy can't view from / to object.\u001b[39;00m\n\u001b[0;32m--> 170\u001b[0m     \u001b[39mreturn\u001b[39;00m arr\u001b[39m.\u001b[39;49mastype(dtype, copy\u001b[39m=\u001b[39;49m\u001b[39mTrue\u001b[39;49;00m)\n\u001b[1;32m    172\u001b[0m \u001b[39mreturn\u001b[39;00m arr\u001b[39m.\u001b[39mastype(dtype, copy\u001b[39m=\u001b[39mcopy)\n",
      "\u001b[0;31mValueError\u001b[0m: could not convert string to float: \"['$87 432']\""
     ]
    }
   ],
   "source": [
    "df.astype({'Сборы в России': 'float'})\n"
   ]
  },
  {
   "attachments": {},
   "cell_type": "markdown",
   "metadata": {},
   "source": [
    "## Part 1: Data proccessing"
   ]
  },
  {
   "attachments": {},
   "cell_type": "markdown",
   "metadata": {},
   "source": [
    "Changing data types in dataframe"
   ]
  },
  {
   "cell_type": "code",
   "execution_count": 5,
   "metadata": {},
   "outputs": [
    {
     "data": {
      "text/plain": [
       "Index(['Аудиодорожки', 'Субтитры', 'Качество видео', 'Год производства',\n",
       "       'Страна', 'Жанр', 'Слоган', 'Режиссер', 'Сценарий', 'Продюсер',\n",
       "       'Оператор', 'Композитор', 'Художник', 'Монтаж', 'Бюджет', 'Маркетинг',\n",
       "       'Сборы в США', 'Сборы в мире', 'Зрители', 'Премьера в Росcии',\n",
       "       'Премьера в мире', 'Релиз на DVD', 'Возраст', 'Рейтинг MPAA', 'Время',\n",
       "       'Название фильма', 'Актеры', 'Оценка фильма', 'Релиз на Blu-ray',\n",
       "       'Сборы в России', 'Ре-релиз (РФ)', 'Цифровой релиз', 'Директор фильма',\n",
       "       '4K доступно только на больших экранах', 'Платформа'],\n",
       "      dtype='object')"
      ]
     },
     "execution_count": 5,
     "metadata": {},
     "output_type": "execute_result"
    }
   ],
   "source": [
    "df.columns"
   ]
  },
  {
   "cell_type": "code",
   "execution_count": 4,
   "metadata": {},
   "outputs": [
    {
     "name": "stdout",
     "output_type": "stream",
     "text": [
      "['Аудиодорожки', 'Субтитры', 'Качество видео', 'Год производства', 'Страна', 'Жанр', 'Слоган', 'Режиссер', 'Сценарий', 'Продюсер', 'Оператор', 'Композитор', 'Художник', 'Монтаж', 'Бюджет', 'Маркетинг', 'Сборы в США', 'Сборы в мире', 'Зрители', 'Премьера в Росcии', 'Премьера в мире', 'Релиз на DVD', 'Возраст', 'Рейтинг MPAA', 'Время', 'Название фильма', 'Актеры', 'Оценка фильма', 'Релиз на Blu-ray', 'Сборы в России', 'Ре-релиз (РФ)', 'Цифровой релиз', 'Директор фильма', '4K доступно только на больших экранах', 'Платформа']\n"
     ]
    }
   ],
   "source": [
    "f_n = 'KinoPoisk.csv'\n",
    "f = open(f_n , 'r')\n",
    "csv_reader = csv.reader(f)\n",
    "header = next(csv_reader)\n",
    "print(header)\n",
    "\n",
    "c.execute('CREATE TABLE {tn}({fieldlist})'.format(\n",
    "    tn = films_data, \n",
    "    fieldlist=', '.join('{} TEXT'.format(name) for name in header),\n",
    "))"
   ]
  },
  {
   "cell_type": "code",
   "execution_count": null,
   "metadata": {},
   "outputs": [],
   "source": []
  }
 ],
 "metadata": {
  "kernelspec": {
   "display_name": "Python 3",
   "language": "python",
   "name": "python3"
  },
  "language_info": {
   "codemirror_mode": {
    "name": "ipython",
    "version": 3
   },
   "file_extension": ".py",
   "mimetype": "text/x-python",
   "name": "python",
   "nbconvert_exporter": "python",
   "pygments_lexer": "ipython3",
   "version": "3.10.6"
  },
  "orig_nbformat": 4,
  "vscode": {
   "interpreter": {
    "hash": "916dbcbb3f70747c44a77c7bcd40155683ae19c65e1c03b4aa3499c5328201f1"
   }
  }
 },
 "nbformat": 4,
 "nbformat_minor": 2
}
